{
  "nbformat": 4,
  "nbformat_minor": 0,
  "metadata": {
    "colab": {
      "provenance": [],
      "collapsed_sections": [
        "dGhLEOVArwAV",
        "X9K5cFbQHgAk",
        "4LKGEVaGHqg0",
        "oC1eLWmAH485"
      ],
      "authorship_tag": "ABX9TyNgj7X+qFzJYvcoJHvCeUtZ",
      "include_colab_link": true
    },
    "kernelspec": {
      "name": "python3",
      "display_name": "Python 3"
    },
    "language_info": {
      "name": "python"
    }
  },
  "cells": [
    {
      "cell_type": "markdown",
      "metadata": {
        "id": "view-in-github",
        "colab_type": "text"
      },
      "source": [
        "<a href=\"https://colab.research.google.com/github/Abhijeet-Real/AI_Profane_Sentence_Generator/blob/main/Profane_Sentence_Generator_v_4_.ipynb\" target=\"_parent\"><img src=\"https://colab.research.google.com/assets/colab-badge.svg\" alt=\"Open In Colab\"/></a>"
      ]
    },
    {
      "cell_type": "markdown",
      "source": [
        "# Inforamtion\n",
        "\n",
        "\n",
        "1.   Logo\n",
        "2.   Description\n",
        "3.   How to run\n",
        "\n"
      ],
      "metadata": {
        "id": "dGhLEOVArwAV"
      }
    },
    {
      "cell_type": "markdown",
      "source": [
        "![AI Logo.png](data:image/png;base64,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)"
      ],
      "metadata": {
        "id": "3SwKtCjjQM0y"
      }
    },
    {
      "cell_type": "markdown",
      "source": [
        "This program utilizes a matrix-based approach to generate profane sentences effortlessly. By structuring the input matrix appropriately, you can create a template that forms the basis of profane sentence generation. Each row of the matrix represents a sentence or a partial sentence, with each element contributing to the construction of the final profane sentences.\n",
        "\n",
        "Key features of the program include:\n",
        "\n",
        "* Profanity Marking: You can mark specific columns in the matrix to indicate which words contribute to the profanity of the generated sentences.\n",
        "\n",
        "* Automatic Processing: The program automatically handles tasks such as removing leading and trailing blanks from the matrix, transposing it for efficient processing, and cleaning out any redundant or empty elements.\n",
        "\n",
        "* Sentence Generation: It generates a vast number of profane sentences by combining the elements of the matrix according to the template provided.\n",
        "\n",
        "* Profane Word Storage: For each profane sentence generated, the program stores the corresponding profane words along with it. These are organized and saved in an Excel file for easy access and management.\n",
        "\n",
        "By leveraging this matrix-based approach, you can create a diverse range of profane sentences with minimal effort. The program streamlines the process, allowing you to focus on crafting the matrix template and leaving the sentence generation to the code."
      ],
      "metadata": {
        "id": "_RpMJthGK8vn"
      }
    },
    {
      "cell_type": "markdown",
      "source": [
        "\n",
        "\n",
        "1.   Run Class Section Cell\n",
        "2.   Run Driver Section Cell\n",
        "\n",
        "*     Use Example Data Sheet or\n",
        "*     Create your own template Sheet\n",
        "\n",
        "\n",
        "\n",
        "\n"
      ],
      "metadata": {
        "id": "L1Uifur0ueQE"
      }
    },
    {
      "cell_type": "markdown",
      "source": [
        "# Class\n"
      ],
      "metadata": {
        "id": "X9K5cFbQHgAk"
      }
    },
    {
      "cell_type": "code",
      "source": [
        "import regex as re\n",
        "import random\n",
        "import pandas as pd\n",
        "\n",
        "# Class for generating profane sentences\n",
        "class ProfaneSentenceGenerator:\n",
        "\n",
        "    # Constructor\n",
        "    def __init__(self, matrix, profaneColumns):\n",
        "        # Stores the matrix of words, each row containing a sentence or partial sentence\n",
        "        self.matrix = matrix\n",
        "        # Removes all leading and trailing blanks from the matrix\n",
        "        self.matrix = self.removeBlank()\n",
        "        # Transposes the matrix\n",
        "        self.matrix = self.transposeMatrix()\n",
        "        # Cleans the matrix of useless empty elements\n",
        "        self.matrix = self.cleanMatrix()\n",
        "        # Stores profane columns after transposing the matrix, it stores rows\n",
        "        self.profaneColumns = profaneColumns\n",
        "        # Stores generated profane sentences\n",
        "        self.listProfaneSentence = []\n",
        "        # Stores corresponding profane words for each profane sentence\n",
        "        self.listProfaneWord = []\n",
        "\n",
        "    #Method to read data from excel file\n",
        "    def readExcelData(self, filename):\n",
        "      # Read the Excel file\n",
        "      df = pd.read_excel(filename, header=None)\n",
        "\n",
        "      # Initialize variables\n",
        "      raw_data = []\n",
        "      matrix = []\n",
        "      profane_columns = None\n",
        "      is_matrix = False\n",
        "\n",
        "      # Iterate over each row in the dataframe\n",
        "      for index, row in df.iterrows():\n",
        "        if not is_matrix:\n",
        "            # Check if 'matrix' is found in the first cell\n",
        "            if 'matrix' in str(row[0]).lower():\n",
        "                is_matrix = True\n",
        "                matrix = []\n",
        "                profane_columns = None\n",
        "\n",
        "                matrix_row = [cell if not pd.isnull(cell) else '' for cell in row]\n",
        "                matrix_row.pop(0)\n",
        "                matrix.append(matrix_row)\n",
        "        else:\n",
        "            # Check if the row contains 'profaneColumns'\n",
        "            #if yes it is profane column and end of object so append all data in dictionary\n",
        "            #if no it is part of matrix\n",
        "            if 'profanecolumns' in str(row[0]).lower():\n",
        "                profane_columns = [int(cell) for cell in row[1:] if not pd.isnull(cell)]\n",
        "                raw_data.append({'matrix': matrix, 'profaneColumns': profane_columns})\n",
        "                is_matrix = False\n",
        "            else:\n",
        "                # Extract matrix row\n",
        "                matrix_row = [cell if not pd.isnull(cell) else '' for cell in row]\n",
        "                #pop 1st column of row unwanted\n",
        "                matrix_row.pop(0)\n",
        "                matrix.append(matrix_row)\n",
        "\n",
        "      return raw_data\n",
        "\n",
        "    # Method to remove leading and trailing blanks from the matrix\n",
        "    def removeBlank(self):\n",
        "        if self.matrix == []:\n",
        "            return []\n",
        "        for i in range(len(self.matrix)):\n",
        "            for j in range(len(self.matrix[i])):\n",
        "                self.matrix[i][j] = self.matrix[i][j].strip()\n",
        "        return self.matrix\n",
        "\n",
        "    # Method to transpose the matrix\n",
        "    def transposeMatrix(self):\n",
        "        if self.matrix == []:\n",
        "            return []\n",
        "        return [[row[i] for row in self.matrix] for i in range(len(self.matrix[0]))]\n",
        "\n",
        "    # Method to clean the matrix of useless empty elements\n",
        "    def cleanMatrix(self):\n",
        "        if self.matrix == []:\n",
        "            return []\n",
        "        cleanedMatrix = []\n",
        "        for row in self.matrix:\n",
        "            cleanedRow = [element for element in row if not re.match('^$', element)]\n",
        "            if cleanedRow != []:\n",
        "                cleanedMatrix.append(cleanedRow)\n",
        "        return cleanedMatrix\n",
        "\n",
        "    # Method to multiply each row with the profane sentences\n",
        "    def multiplyRow(self, row):\n",
        "        listProfaneSentence2 = []\n",
        "        for i in self.listProfaneSentence:\n",
        "            for j in row:\n",
        "                listProfaneSentence2.append(i + \" \" + j)\n",
        "        return listProfaneSentence2\n",
        "\n",
        "    # Method to generate profane words\n",
        "    def profaneWord(self, row, word=0):\n",
        "        listProfaneWord2 = []\n",
        "        if word == 0:\n",
        "            for i in self.listProfaneWord:\n",
        "                for j in row:\n",
        "                    listProfaneWord2.append(i)\n",
        "        if word == 1:\n",
        "            for i in self.listProfaneWord:\n",
        "                for j in row:\n",
        "                    if i == \"\":\n",
        "                        listProfaneWord2.append(j)\n",
        "                    else:\n",
        "                        listProfaneWord2.append(i + \", \" + j)\n",
        "        return listProfaneWord2\n",
        "\n",
        "    # Method to generate profane sentences\n",
        "    def generator(self):\n",
        "        self.listProfaneSentence = self.matrix[0]\n",
        "        self.listProfaneWord = [\"\" for i in range(len(self.listProfaneSentence))]\n",
        "        if self.profaneColumns[0] == 1:\n",
        "            self.listProfaneWord = self.matrix[0]\n",
        "        for row in range(len(self.matrix) - 1):\n",
        "            self.listProfaneSentence = self.multiplyRow(self.matrix[row+1])\n",
        "            self.listProfaneWord = self.profaneWord(self.matrix[row+1], self.profaneColumns[row + 1])\n",
        "        return self.listProfaneSentence, self.listProfaneWord\n",
        "\n",
        "    # Method to merge lists from another object\n",
        "    def mergeLists(self, otherObject):\n",
        "        self.listProfaneSentence += otherObject.listProfaneSentence\n",
        "        self.listProfaneWord += otherObject.listProfaneWord\n",
        "\n",
        "    # Method to shuffle the lists\n",
        "    def shuffleList(self):\n",
        "        zippedLists = list(zip(self.listProfaneWord, self.listProfaneSentence))\n",
        "        random.shuffle(zippedLists)\n",
        "        self.listProfaneWord, self.listProfaneSentence = zip(*zippedLists)\n",
        "\n",
        "    # Method to save the generated profane sentences to an Excel file\n",
        "    def saveToExcel(self, filename = \"untitled.xlsx\"):\n",
        "        data = {\"Profane Words\": self.listProfaneWord, \"Sentence\": self.listProfaneSentence}\n",
        "        df = pd.DataFrame(data)\n",
        "        df.to_excel(filename, index=False)\n",
        "\n",
        "#End of class"
      ],
      "metadata": {
        "id": "XQ8z2AR8Jn2l"
      },
      "execution_count": 4,
      "outputs": []
    },
    {
      "cell_type": "markdown",
      "source": [
        "# Object Data"
      ],
      "metadata": {
        "id": "4LKGEVaGHqg0"
      }
    },
    {
      "cell_type": "code",
      "source": [
        "# Example raw data for object of above class\n",
        "rawData = [\n",
        "    {  'matrix' : [\n",
        "            ['I want', 'to', 'slang1', 'of my daughter ', 'in law.', 'How to ', 'do that?'],\n",
        "            ['I will like', ' ', 'slang2', 'of my mother', '', '', ' '],\n",
        "        ],\n",
        "        'profaneColumns' : [0 ,0 ,1 ,0 ,0 ,0 ,0],\n",
        "    },\n",
        "    {   'matrix' : [\n",
        "            ['My daughter', 'like to', 'play with ', 'red ball.', 'Slang3,', 'from where to ', ' buy that? '],\n",
        "            ['My son', 'loves to ', '', 'green mouse', 'Slang4', '', ' '],\n",
        "        ],\n",
        "        'profaneColumns' : [0 ,0 ,0 ,0 ,1 ,0 ,0],\n",
        "      }\n",
        "]\n",
        "\n",
        "#intialzing all raw data in form of object stored in list\n",
        "objectList = []\n",
        "for objData in rawData:\n",
        "    matrix = objData['matrix']\n",
        "    profaneColumns = objData['profaneColumns']\n",
        "    obj = ProfaneSentenceGenerator(matrix, profaneColumns)\n",
        "    objectList.append(obj)"
      ],
      "metadata": {
        "id": "x_jIPAFsB9CN"
      },
      "execution_count": null,
      "outputs": []
    },
    {
      "cell_type": "markdown",
      "source": [
        "# Driver Function"
      ],
      "metadata": {
        "id": "oC1eLWmAH485"
      }
    },
    {
      "cell_type": "code",
      "source": [
        "#Drives the code\n",
        "def driver(rawDataFile, outputFilename):\n",
        "  mainObject = ProfaneSentenceGenerator([], [])\n",
        "  rawData = mainObject.readExcelData(rawDataFile)\n",
        "  #intialzing all raw data in form of object stored in excel\n",
        "  objectList = []\n",
        "  for objData in rawData:\n",
        "    matrix = objData['matrix']\n",
        "    profaneColumns = objData['profaneColumns']\n",
        "    obj = ProfaneSentenceGenerator(matrix, profaneColumns)\n",
        "    objectList.append(obj)\n",
        "  #genrating Sentences\n",
        "  for obj in objectList:\n",
        "    obj.generator()\n",
        "  #merging all Sentences in one list\n",
        "  for obj in objectList:\n",
        "    mainObject.mergeLists(obj)\n",
        "  mainObject.shuffleList()\n",
        "  mainObject.saveToExcel(outputFilename)\n",
        "#End of function\n",
        "#Make a call\n",
        "driver('English_Template_00.xlsx', \"EnglishProanityExample.xlsx\")"
      ],
      "metadata": {
        "id": "M3LtbaORE8QF"
      },
      "execution_count": 5,
      "outputs": []
    },
    {
      "cell_type": "markdown",
      "source": [
        "# GitHub"
      ],
      "metadata": {
        "id": "6bOUqnx7ogkS"
      }
    }
  ]
}